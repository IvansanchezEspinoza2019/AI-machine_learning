{
 "cells": [
  {
   "cell_type": "code",
   "execution_count": 1,
   "metadata": {},
   "outputs": [
    {
     "name": "stderr",
     "output_type": "stream",
     "text": [
      "C:\\Users\\acer\\anaconda3\\lib\\site-packages\\sklearn\\externals\\joblib\\__init__.py:15: FutureWarning: sklearn.externals.joblib is deprecated in 0.21 and will be removed in 0.23. Please import this functionality directly from joblib, which can be installed with: pip install joblib. If this warning is raised when loading pickled models, you may need to re-serialize those models with scikit-learn 0.21+.\n",
      "  warnings.warn(msg, category=FutureWarning)\n"
     ]
    }
   ],
   "source": [
    "### Libraries\n",
    "import pandas as pd\n",
    "import numpy as np\n",
    "import matplotlib.pyplot as plt\n",
    "from sklearn import svm, metrics\n",
    "from sklearn.model_selection import train_test_split\n",
    "from sklearn.preprocessing import StandardScaler\n",
    "from sklearn.decomposition import PCA\n",
    "from sklearn.pipeline import Pipeline\n",
    "from sklearn.externals import joblib  # to save the trained model in disk"
   ]
  },
  {
   "cell_type": "code",
   "execution_count": 2,
   "metadata": {},
   "outputs": [],
   "source": [
    "# Read dataset\n",
    "data = pd.read_csv(\"mnist_784.csv\")  # the dataset must to be in your directory\n",
    "n_samples = 70000                    # 70000 is the maximum amount of elements\n",
    "\n",
    "# Model entries\n",
    "x = np.asanyarray(data.drop(columns=['class']))[:n_samples,:]\n",
    "y = np.asanyarray(data[['class']])[:n_samples].ravel()\n"
   ]
  },
  {
   "cell_type": "code",
   "execution_count": 3,
   "metadata": {},
   "outputs": [],
   "source": [
    "# Split dataset for training and testing\n",
    "xtrain, xtest, ytrain, ytest = train_test_split(x, y, test_size=0.1)\n"
   ]
  },
  {
   "cell_type": "code",
   "execution_count": 4,
   "metadata": {},
   "outputs": [],
   "source": [
    "# Create our model\n",
    "model = Pipeline([\n",
    "    ('scaler', StandardScaler()),   # standard scaler\n",
    "    ('pca', PCA(n_components=50)),  # to reduce images dimensionality\n",
    "    ('svm', svm.SVC(gamma=0.0001))  # our classification model\n",
    "])"
   ]
  },
  {
   "cell_type": "code",
   "execution_count": 5,
   "metadata": {},
   "outputs": [
    {
     "name": "stdout",
     "output_type": "stream",
     "text": [
      "Train:  0.9223492063492064\n",
      "Test:  0.9235714285714286\n"
     ]
    }
   ],
   "source": [
    "# Trainning\n",
    "\n",
    "# This will take several time depending on your machine and the samples you entered\n",
    "model.fit(xtrain, ytrain)\n",
    "\n",
    "# Score\n",
    "print(\"Train: \", model.score(xtrain, ytrain))\n",
    "print(\"Test: \", model.score(xtest, ytest))"
   ]
  },
  {
   "cell_type": "code",
   "execution_count": 6,
   "metadata": {},
   "outputs": [
    {
     "data": {
      "text/plain": [
       "['Model.pkl']"
      ]
     },
     "execution_count": 6,
     "metadata": {},
     "output_type": "execute_result"
    }
   ],
   "source": [
    "####### Save the trained model in disk\n",
    "joblib.dump(model, 'Model.pkl')"
   ]
  },
  {
   "cell_type": "code",
   "execution_count": 7,
   "metadata": {},
   "outputs": [
    {
     "name": "stdout",
     "output_type": "stream",
     "text": [
      "CLASSIFICATION REPORT: \n",
      "               precision    recall  f1-score   support\n",
      "\n",
      "           0       0.96      0.95      0.95       704\n",
      "           1       0.94      0.98      0.96       806\n",
      "           2       0.92      0.92      0.92       700\n",
      "           3       0.91      0.90      0.91       743\n",
      "           4       0.92      0.94      0.93       705\n",
      "           5       0.90      0.88      0.89       652\n",
      "           6       0.95      0.96      0.95       665\n",
      "           7       0.93      0.94      0.93       677\n",
      "           8       0.90      0.88      0.89       676\n",
      "           9       0.90      0.88      0.89       672\n",
      "\n",
      "    accuracy                           0.92      7000\n",
      "   macro avg       0.92      0.92      0.92      7000\n",
      "weighted avg       0.92      0.92      0.92      7000\n",
      "\n",
      "\n",
      "CONFUSION MATRIX: \n",
      " [[668   0   4   0   2   9   8   2  10   1]\n",
      " [  0 793   2   4   1   3   2   0   1   0]\n",
      " [  3   7 641   7   7   3   7   9  15   1]\n",
      " [  3   6  18 672   1  15   1   6  18   3]\n",
      " [  1   3   8   0 662   2   6   0   0  23]\n",
      " [  8   6   3  27   1 572   8   2  13  12]\n",
      " [  7   2   6   0   6   5 637   0   2   0]\n",
      " [  0   6   6   2  11   0   0 634   0  18]\n",
      " [  4  16   8  18   3  17   3   4 593  10]\n",
      " [  1   4   4   8  27   7   0  23   5 593]]\n"
     ]
    }
   ],
   "source": [
    "# Predict\n",
    "ypred = model.predict(xtest)\n",
    "\n",
    "# Metrics\n",
    "print(\"CLASSIFICATION REPORT: \\n\", metrics.classification_report(ytest, ypred))\n",
    "print(\"\\nCONFUSION MATRIX: \\n\", metrics.confusion_matrix(ytest, ypred))"
   ]
  },
  {
   "cell_type": "code",
   "execution_count": 39,
   "metadata": {},
   "outputs": [
    {
     "data": {
      "text/plain": [
       "Text(0.5, 1.0, 'Model Prediction: 0')"
      ]
     },
     "execution_count": 39,
     "metadata": {},
     "output_type": "execute_result"
    },
    {
     "data": {
      "image/png": "[encoded data removed]",
      "text/plain": [
       "<Figure size 432x288 with 1 Axes>"
      ]
     },
     "metadata": {
      "needs_background": "light"
     },
     "output_type": "display_data"
    }
   ],
   "source": [
    "# Make predictions\n",
    "sample = np.random.randint(xtest.shape[0])\n",
    "plt.imshow(xtest[sample].reshape((28,28)), cmap=plt.cm.gray)\n",
    "plt.title(\"Model Prediction: %i\" % ypred[sample])\n"
   ]
  },
  {
   "cell_type": "code",
   "execution_count": null,
   "metadata": {},
   "outputs": [],
   "source": []
  }
 ],
 "metadata": {
  "kernelspec": {
   "display_name": "Python 3",
   "language": "python",
   "name": "python3"
  },
  "language_info": {
   "codemirror_mode": {
    "name": "ipython",
    "version": 3
   },
   "file_extension": ".py",
   "mimetype": "text/x-python",
   "name": "python",
   "nbconvert_exporter": "python",
   "pygments_lexer": "ipython3",
   "version": "3.7.6"
  }
 },
 "nbformat": 4,
 "nbformat_minor": 4
}
