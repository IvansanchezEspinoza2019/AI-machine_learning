{
 "cells": [
  {
   "cell_type": "code",
   "execution_count": 51,
   "metadata": {},
   "outputs": [],
   "source": [
    "# Libraries\n",
    "import pandas as pd\n",
    "import numpy as np\n",
    "import matplotlib.pyplot as plt\n",
    "from sklearn import svm, metrics\n",
    "from sklearn.model_selection import train_test_split\n",
    "from sklearn.preprocessing import StandardScaler\n",
    "from sklearn.decomposition import PCA\n",
    "from sklearn.pipeline import Pipeline"
   ]
  },
  {
   "cell_type": "code",
   "execution_count": 52,
   "metadata": {},
   "outputs": [],
   "source": [
    "# Read dataset\n",
    "data = pd.read_csv(\"mnist_784.csv\")  # the dataset must to be in your directory\n",
    "n_samples = 70000                    # 70000 is the maximum amount of elements\n",
    "\n",
    "# Model entries\n",
    "x = np.asanyarray(data.drop(columns=['class']))[:n_samples,:]\n",
    "y = np.asanyarray(data[['class']])[:n_samples].ravel()\n"
   ]
  },
  {
   "cell_type": "code",
   "execution_count": 53,
   "metadata": {},
   "outputs": [],
   "source": [
    "# Split dataset for training and testing\n",
    "xtrain, xtest, ytrain, ytest = train_test_split(x, y, test_size=0.1)\n"
   ]
  },
  {
   "cell_type": "code",
   "execution_count": 54,
   "metadata": {},
   "outputs": [],
   "source": [
    "# Create our model\n",
    "model = Pipeline([\n",
    "    ('scaler', StandardScaler()),   # standard scaler\n",
    "    ('pca', PCA(n_components=50)),  # to reduce images dimensionality\n",
    "    ('svm', svm.SVC(gamma=0.0001))  # our classification model\n",
    "])"
   ]
  },
  {
   "cell_type": "code",
   "execution_count": 55,
   "metadata": {},
   "outputs": [
    {
     "name": "stdout",
     "output_type": "stream",
     "text": [
      "Train:  0.9221428571428572\n",
      "Test:  0.9224285714285714\n"
     ]
    }
   ],
   "source": [
    "# Trainning\n",
    "\n",
    "# This will take several time depending on your machine and the samples you entered\n",
    "model.fit(xtrain, ytrain)\n",
    "\n",
    "# Score\n",
    "print(\"Train: \", model.score(xtrain, ytrain))\n",
    "print(\"Test: \", model.score(xtest, ytest))"
   ]
  },
  {
   "cell_type": "code",
   "execution_count": 48,
   "metadata": {},
   "outputs": [
    {
     "name": "stdout",
     "output_type": "stream",
     "text": [
      "SI\n",
      "Classification Report: \n",
      "               precision    recall  f1-score   support\n",
      "\n",
      "           0       0.97      0.98      0.97       708\n",
      "           1       0.94      0.98      0.96       792\n",
      "           2       0.92      0.92      0.92       691\n",
      "           3       0.89      0.88      0.89       731\n",
      "           4       0.91      0.95      0.93       707\n",
      "           5       0.89      0.89      0.89       606\n",
      "           6       0.95      0.96      0.95       676\n",
      "           7       0.94      0.91      0.92       731\n",
      "           8       0.90      0.87      0.88       695\n",
      "           9       0.89      0.87      0.88       663\n",
      "\n",
      "    accuracy                           0.92      7000\n",
      "   macro avg       0.92      0.92      0.92      7000\n",
      "weighted avg       0.92      0.92      0.92      7000\n",
      "\n",
      "\n",
      "Confusion Matrix: \n",
      " [[691   0   2   1   3   3   4   0   4   0]\n",
      " [  0 775   6   3   1   1   1   1   4   0]\n",
      " [  4   3 634  12   6   3   8   5  15   1]\n",
      " [  0   7  16 644   1  16   1  11  26   9]\n",
      " [  2   3   4   0 672   0   1   1   1  23]\n",
      " [  4   5   2  25   4 540  15   2   5   4]\n",
      " [  6   4   5   0   3   8 646   0   4   0]\n",
      " [  0  10   6   1  14   1   0 665   5  29]\n",
      " [  4  11   9  23   3  32   4   1 602   6]\n",
      " [  3   6   6  11  29   3   0  25   4 576]]\n"
     ]
    }
   ],
   "source": [
    "# Predict\n",
    "ypred = model.predict(xtest)\n",
    "\n",
    "# Metrics\n",
    "print(\"CLASSIFICATION REPORT: \\n\", metrics.classification_report(ytest, ypred))\n",
    "print(\"\\nCONFUSION MATRIX: \\n\", metrics.confusion_matrix(ytest, ypred))"
   ]
  },
  {
   "cell_type": "code",
   "execution_count": 46,
   "metadata": {},
   "outputs": [
    {
     "data": {
      "text/plain": [
       "Text(0.5, 1.0, 'Prediction: 9')"
      ]
     },
     "execution_count": 46,
     "metadata": {},
     "output_type": "execute_result"
    },
    {
     "data": {
      "image/png": "[encoded data removed]",
      "text/plain": [
       "<Figure size 432x288 with 1 Axes>"
      ]
     },
     "metadata": {
      "needs_background": "light"
     },
     "output_type": "display_data"
    }
   ],
   "source": [
    "# Make predictions\n",
    "sample = np.random.randint(xtest.shape[0])\n",
    "plt.imshow(xtest[sample].reshape((28,28)), cmap=plt.cm.gray)\n",
    "plt.title(\"Model Prediction: %i\" % ypred[sample])"
   ]
  },
  {
   "cell_type": "code",
   "execution_count": null,
   "metadata": {},
   "outputs": [],
   "source": []
  }
 ],
 "metadata": {
  "kernelspec": {
   "display_name": "Python 3",
   "language": "python",
   "name": "python3"
  },
  "language_info": {
   "codemirror_mode": {
    "name": "ipython",
    "version": 3
   },
   "file_extension": ".py",
   "mimetype": "text/x-python",
   "name": "python",
   "nbconvert_exporter": "python",
   "pygments_lexer": "ipython3",
   "version": "3.7.6"
  }
 },
 "nbformat": 4,
 "nbformat_minor": 4
}
