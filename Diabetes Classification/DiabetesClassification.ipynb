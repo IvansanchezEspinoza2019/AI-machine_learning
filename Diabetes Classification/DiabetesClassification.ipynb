{
 "cells": [
  {
   "cell_type": "code",
   "execution_count": 94,
   "metadata": {},
   "outputs": [
    {
     "data": {
      "text/plain": [
       "'\\n    Diabetes Classification\\n'"
      ]
     },
     "execution_count": 94,
     "metadata": {},
     "output_type": "execute_result"
    }
   ],
   "source": [
    "\"\"\"\n",
    "    Diabetes Classification\n",
    "\"\"\""
   ]
  },
  {
   "cell_type": "code",
   "execution_count": 95,
   "metadata": {},
   "outputs": [],
   "source": [
    "#### Libreries needed\n",
    "import numpy as np\n",
    "import pandas as pd\n",
    "import matplotlib.pyplot as plt\n",
    "from sklearn.preprocessing import StandardScaler\n",
    "from sklearn.model_selection import train_test_split\n",
    "from sklearn import datasets, metrics"
   ]
  },
  {
   "cell_type": "code",
   "execution_count": 96,
   "metadata": {},
   "outputs": [
    {
     "data": {
      "text/html": [
       "<div>\n",
       "<style scoped>\n",
       "    .dataframe tbody tr th:only-of-type {\n",
       "        vertical-align: middle;\n",
       "    }\n",
       "\n",
       "    .dataframe tbody tr th {\n",
       "        vertical-align: top;\n",
       "    }\n",
       "\n",
       "    .dataframe thead th {\n",
       "        text-align: right;\n",
       "    }\n",
       "</style>\n",
       "<table border=\"1\" class=\"dataframe\">\n",
       "  <thead>\n",
       "    <tr style=\"text-align: right;\">\n",
       "      <th></th>\n",
       "      <th>Pregnancies</th>\n",
       "      <th>Glucose</th>\n",
       "      <th>BloodPressure</th>\n",
       "      <th>SkinThickness</th>\n",
       "      <th>Insulin</th>\n",
       "      <th>BMI</th>\n",
       "      <th>DiabetesPedigreeFunction</th>\n",
       "      <th>Age</th>\n",
       "      <th>Outcome</th>\n",
       "    </tr>\n",
       "  </thead>\n",
       "  <tbody>\n",
       "    <tr>\n",
       "      <th>0</th>\n",
       "      <td>6</td>\n",
       "      <td>148</td>\n",
       "      <td>72</td>\n",
       "      <td>35</td>\n",
       "      <td>0</td>\n",
       "      <td>33.6</td>\n",
       "      <td>0.627</td>\n",
       "      <td>50</td>\n",
       "      <td>1</td>\n",
       "    </tr>\n",
       "    <tr>\n",
       "      <th>1</th>\n",
       "      <td>1</td>\n",
       "      <td>85</td>\n",
       "      <td>66</td>\n",
       "      <td>29</td>\n",
       "      <td>0</td>\n",
       "      <td>26.6</td>\n",
       "      <td>0.351</td>\n",
       "      <td>31</td>\n",
       "      <td>0</td>\n",
       "    </tr>\n",
       "    <tr>\n",
       "      <th>2</th>\n",
       "      <td>8</td>\n",
       "      <td>183</td>\n",
       "      <td>64</td>\n",
       "      <td>0</td>\n",
       "      <td>0</td>\n",
       "      <td>23.3</td>\n",
       "      <td>0.672</td>\n",
       "      <td>32</td>\n",
       "      <td>1</td>\n",
       "    </tr>\n",
       "    <tr>\n",
       "      <th>3</th>\n",
       "      <td>1</td>\n",
       "      <td>89</td>\n",
       "      <td>66</td>\n",
       "      <td>23</td>\n",
       "      <td>94</td>\n",
       "      <td>28.1</td>\n",
       "      <td>0.167</td>\n",
       "      <td>21</td>\n",
       "      <td>0</td>\n",
       "    </tr>\n",
       "    <tr>\n",
       "      <th>4</th>\n",
       "      <td>0</td>\n",
       "      <td>137</td>\n",
       "      <td>40</td>\n",
       "      <td>35</td>\n",
       "      <td>168</td>\n",
       "      <td>43.1</td>\n",
       "      <td>2.288</td>\n",
       "      <td>33</td>\n",
       "      <td>1</td>\n",
       "    </tr>\n",
       "  </tbody>\n",
       "</table>\n",
       "</div>"
      ],
      "text/plain": [
       "   Pregnancies  Glucose  BloodPressure  SkinThickness  Insulin   BMI  \\\n",
       "0            6      148             72             35        0  33.6   \n",
       "1            1       85             66             29        0  26.6   \n",
       "2            8      183             64              0        0  23.3   \n",
       "3            1       89             66             23       94  28.1   \n",
       "4            0      137             40             35      168  43.1   \n",
       "\n",
       "   DiabetesPedigreeFunction  Age  Outcome  \n",
       "0                     0.627   50        1  \n",
       "1                     0.351   31        0  \n",
       "2                     0.672   32        1  \n",
       "3                     0.167   21        0  \n",
       "4                     2.288   33        1  "
      ]
     },
     "execution_count": 96,
     "metadata": {},
     "output_type": "execute_result"
    }
   ],
   "source": [
    "### load dataset\n",
    "\n",
    "# must to exist on your directory\n",
    "data = pd.read_csv(\"diabetes.csv\")\n",
    "\n",
    "# To see a quick view of the data\n",
    "data.iloc[:5, : ]\n",
    "\n",
    "# The outcome column is the class (if the person has diabetes (1) or not (0))"
   ]
  },
  {
   "cell_type": "code",
   "execution_count": 99,
   "metadata": {},
   "outputs": [
    {
     "name": "stdout",
     "output_type": "stream",
     "text": [
      "Total Samples:\t\t 768\n",
      "No. Samples [train]:\t 576\n",
      "No. Samples [test]:\t 192\n"
     ]
    }
   ],
   "source": [
    "######## Preprocessing data #########\n",
    "\n",
    "# Get all data from diabetes dataset\n",
    "x = np.asanyarray(data.drop(columns=['Outcome']))[:, :]  # 8 inputs\n",
    "y = np.asanyarray(data[['Outcome']])[:, :].ravel()       # the output class (0=No Diabetes, 1:Diabetes)\n",
    "\n",
    "# Scale the data \n",
    "x = StandardScaler().fit_transform(x)\n",
    "\n",
    "# Split the dataset in train and test datasets\n",
    "xtrain, xtest, ytrain, ytest = train_test_split(x, y, test_size=0.25)\n",
    "\n",
    "# Samples\n",
    "print(\"Total Samples:\\t\\t\", x.shape[0])\n",
    "print(\"No. Samples [train]:\\t\", xtrain.shape[0])\n",
    "print(\"No. Samples [test]:\\t\", xtest.shape[0])\n"
   ]
  },
  {
   "cell_type": "code",
   "execution_count": 100,
   "metadata": {},
   "outputs": [
    {
     "name": "stdout",
     "output_type": "stream",
     "text": [
      "Train:  0.7552083333333334\n",
      "Test:  0.7708333333333334\n"
     ]
    }
   ],
   "source": [
    "################## KNeighbors ########################\n",
    "## Config  with best permomance: Neighbors: 25-100\n",
    "from sklearn.neighbors import KNeighborsClassifier\n",
    "knn = KNeighborsClassifier(25)\n",
    "knn.fit(xtrain, ytrain)\n",
    "\n",
    "print(\"Train: \", knn.score(xtrain, ytrain))\n",
    "print(\"Test: \", knn.score(xtest,ytest))\n"
   ]
  },
  {
   "cell_type": "code",
   "execution_count": 101,
   "metadata": {},
   "outputs": [
    {
     "name": "stdout",
     "output_type": "stream",
     "text": [
      "Score Train:  0.7638888888888888\n",
      "Score Test:  0.765625\n"
     ]
    }
   ],
   "source": [
    "########################## Gaussian Process ###############################\n",
    "from sklearn.naive_bayes import GaussianNB\n",
    "\n",
    "GP = GaussianNB()\n",
    "\n",
    "GP.fit(xtrain, ytrain)\n",
    "# train & test score\n",
    "print(\"Score Train: \",GP.score(xtrain, ytrain))\n",
    "print(\"Score Test: \",GP.score(xtest, ytest))"
   ]
  },
  {
   "cell_type": "code",
   "execution_count": 102,
   "metadata": {},
   "outputs": [
    {
     "name": "stdout",
     "output_type": "stream",
     "text": [
      "Train:  0.7847222222222222\n",
      "Test:  0.765625\n"
     ]
    }
   ],
   "source": [
    "########################## SVC ########################\n",
    "from sklearn.svm import SVC\n",
    "\n",
    "# parameters with the best results: gamma=0.01, C=1\n",
    "svc = SVC(gamma=0.01,C=1)\n",
    "\n",
    "# train the SVC model\n",
    "svc.fit(xtrain, ytrain)\n",
    "\n",
    "print(\"Train: \", svc.score(xtrain, ytrain))\n",
    "print(\"Test: \", svc.score(xtest,ytest))"
   ]
  },
  {
   "cell_type": "code",
   "execution_count": 103,
   "metadata": {},
   "outputs": [],
   "source": [
    "######################## Make predictions ##################################33\n",
    "\n",
    "# I took only one model for doing predictions (you can choose: 'mlp.predict, svc.predict, knn.predict')\n",
    "ypred = svc.predict(xtest)"
   ]
  },
  {
   "cell_type": "code",
   "execution_count": 104,
   "metadata": {},
   "outputs": [
    {
     "name": "stdout",
     "output_type": "stream",
     "text": [
      "-- Prediction --\n",
      "\n",
      "Row (Normalized): \n",
      " [-0.54791859  0.19108374 -0.57412775  0.21726125  1.69490581 -0.54481078\n",
      "  3.40706745 -0.70119842]\n",
      "\n",
      "NOTE: (1=Diabetes) (0=No Diabetes)\n",
      "\n",
      "Prediction:\t 0\n",
      "Expected:\t 0\n"
     ]
    }
   ],
   "source": [
    "# get a random index of the test dataset\n",
    "index = np.random.randint(xtest.shape[0])\n",
    "\n",
    "# print the row\n",
    "print(\"-- Prediction --\\n\")\n",
    "print(\"Row (Normalized): \\n\",xtest[index, :])\n",
    "predicted = ypred[index]\n",
    "\n",
    "print(\"\\nNOTE: (1=Diabetes) (0=No Diabetes)\")\n",
    "print(\"\\nPrediction:\\t\", ypred[index])\n",
    "print(\"Expected:\\t\", ytest[index])"
   ]
  },
  {
   "cell_type": "code",
   "execution_count": 105,
   "metadata": {},
   "outputs": [
    {
     "name": "stdout",
     "output_type": "stream",
     "text": [
      "Classification Report: \n",
      "\n",
      "               precision    recall  f1-score   support\n",
      "\n",
      "           0       0.78      0.88      0.83       124\n",
      "           1       0.72      0.56      0.63        68\n",
      "\n",
      "    accuracy                           0.77       192\n",
      "   macro avg       0.75      0.72      0.73       192\n",
      "weighted avg       0.76      0.77      0.76       192\n",
      "\n"
     ]
    }
   ],
   "source": [
    "####################### Metrics ########################################\n",
    "\n",
    "\n",
    "\"\"\"\n",
    "Muestra el desempeño general de nuestro modelo, desempeños gobales y locales por cada clase. F1-score, accuracy\n",
    "\"\"\"\n",
    "\n",
    "# Classification report\n",
    "print(\"Classification Report: \\n\\n\", metrics.classification_report(ytest, ypred))\n",
    "\n"
   ]
  },
  {
   "cell_type": "code",
   "execution_count": 106,
   "metadata": {},
   "outputs": [
    {
     "name": "stdout",
     "output_type": "stream",
     "text": [
      "Confusion Matrix: \n",
      "\n",
      " [[109  15]\n",
      " [ 30  38]]\n"
     ]
    }
   ],
   "source": [
    "# Confusion matrix\n",
    "\n",
    "\"\"\"\n",
    " Lo mas recomedable es que haya la mayoria de los valores en la diagonal de la matriz y que haya \n",
    " pocos valores en las otras posiciones. Si pasa esto es que nuestro modelo ha hecho una buena \n",
    " prediccion\n",
    "\"\"\"\n",
    "print(\"Confusion Matrix: \\n\\n\", metrics.confusion_matrix(ytest, ypred))\n"
   ]
  },
  {
   "cell_type": "code",
   "execution_count": null,
   "metadata": {},
   "outputs": [],
   "source": []
  }
 ],
 "metadata": {
  "kernelspec": {
   "display_name": "Python 3",
   "language": "python",
   "name": "python3"
  },
  "language_info": {
   "codemirror_mode": {
    "name": "ipython",
    "version": 3
   },
   "file_extension": ".py",
   "mimetype": "text/x-python",
   "name": "python",
   "nbconvert_exporter": "python",
   "pygments_lexer": "ipython3",
   "version": "3.7.6"
  }
 },
 "nbformat": 4,
 "nbformat_minor": 4
}
