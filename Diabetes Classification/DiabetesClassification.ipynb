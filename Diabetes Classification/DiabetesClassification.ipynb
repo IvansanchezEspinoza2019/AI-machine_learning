{
 "cells": [
  {
   "cell_type": "code",
   "execution_count": 102,
   "metadata": {},
   "outputs": [],
   "source": [
    "# libreries needed\n",
    "import numpy as np\n",
    "import pandas as pd\n",
    "from sklearn.preprocessing import StandardScaler\n",
    "from sklearn.model_selection import train_test_split"
   ]
  },
  {
   "cell_type": "code",
   "execution_count": 103,
   "metadata": {},
   "outputs": [],
   "source": [
    "# load dataset\n",
    "data = pd.read_csv(\"diabetes.csv\")"
   ]
  },
  {
   "cell_type": "code",
   "execution_count": 305,
   "metadata": {},
   "outputs": [],
   "source": [
    "# Get our inputs from datasets\n",
    "x = np.asanyarray(data.iloc[:, :8]) # 8 inputs\n",
    "y = np.asanyarray(data.iloc[:, 8])  # the output class\n",
    "\n",
    "# Scale the data\n",
    "x = StandardScaler().fit_transform(x)\n",
    "\n",
    "# Split the dataset in train and test datasets\n",
    "xtrain, xtest, ytrain, ytest = train_test_split(x, y)\n"
   ]
  },
  {
   "cell_type": "code",
   "execution_count": 306,
   "metadata": {},
   "outputs": [
    {
     "name": "stdout",
     "output_type": "stream",
     "text": [
      "Score Train:  0.8142361111111112\n",
      "Score Test:  0.734375\n"
     ]
    }
   ],
   "source": [
    "from sklearn.svm import SVC\n",
    "\n",
    "# parameter with better results: gamma=0.01,\n",
    "model = SVC(gamma=0.01,C=50)\n",
    "\n",
    "model.fit(xtrain,ytrain)\n",
    "\n",
    "print(\"Score Train: \",model.score(xtrain, ytrain))\n",
    "print(\"Score Test: \",model.score(xtest,ytest))"
   ]
  },
  {
   "cell_type": "code",
   "execution_count": null,
   "metadata": {},
   "outputs": [],
   "source": []
  }
 ],
 "metadata": {
  "kernelspec": {
   "display_name": "Python 3",
   "language": "python",
   "name": "python3"
  },
  "language_info": {
   "codemirror_mode": {
    "name": "ipython",
    "version": 3
   },
   "file_extension": ".py",
   "mimetype": "text/x-python",
   "name": "python",
   "nbconvert_exporter": "python",
   "pygments_lexer": "ipython3",
   "version": "3.7.6"
  }
 },
 "nbformat": 4,
 "nbformat_minor": 4
}
